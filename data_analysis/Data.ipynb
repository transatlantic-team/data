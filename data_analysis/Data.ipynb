{
 "cells": [
  {
   "cell_type": "code",
   "execution_count": 1,
   "metadata": {},
   "outputs": [
    {
     "name": "stderr",
     "output_type": "stream",
     "text": [
      "In /home/alma/.local/lib/python3.6/site-packages/matplotlib/mpl-data/stylelib/_classic_test.mplstyle: \n",
      "The text.latex.preview rcparam was deprecated in Matplotlib 3.3 and will be removed two minor releases later.\n",
      "In /home/alma/.local/lib/python3.6/site-packages/matplotlib/mpl-data/stylelib/_classic_test.mplstyle: \n",
      "The mathtext.fallback_to_cm rcparam was deprecated in Matplotlib 3.3 and will be removed two minor releases later.\n",
      "In /home/alma/.local/lib/python3.6/site-packages/matplotlib/mpl-data/stylelib/_classic_test.mplstyle: Support for setting the 'mathtext.fallback_to_cm' rcParam is deprecated since 3.3 and will be removed two minor releases later; use 'mathtext.fallback : 'cm' instead.\n",
      "In /home/alma/.local/lib/python3.6/site-packages/matplotlib/mpl-data/stylelib/_classic_test.mplstyle: \n",
      "The validate_bool_maybe_none function was deprecated in Matplotlib 3.3 and will be removed two minor releases later.\n",
      "In /home/alma/.local/lib/python3.6/site-packages/matplotlib/mpl-data/stylelib/_classic_test.mplstyle: \n",
      "The savefig.jpeg_quality rcparam was deprecated in Matplotlib 3.3 and will be removed two minor releases later.\n",
      "In /home/alma/.local/lib/python3.6/site-packages/matplotlib/mpl-data/stylelib/_classic_test.mplstyle: \n",
      "The keymap.all_axes rcparam was deprecated in Matplotlib 3.3 and will be removed two minor releases later.\n",
      "In /home/alma/.local/lib/python3.6/site-packages/matplotlib/mpl-data/stylelib/_classic_test.mplstyle: \n",
      "The animation.avconv_path rcparam was deprecated in Matplotlib 3.3 and will be removed two minor releases later.\n",
      "In /home/alma/.local/lib/python3.6/site-packages/matplotlib/mpl-data/stylelib/_classic_test.mplstyle: \n",
      "The animation.avconv_args rcparam was deprecated in Matplotlib 3.3 and will be removed two minor releases later.\n"
     ]
    }
   ],
   "source": [
    "import numpy as np\n",
    "import matplotlib.pyplot as plt\n",
    "import matplotlib\n",
    "import seaborn as sns\n",
    "import pandas as pd\n",
    "\n",
    "from sklearn.ensemble import RandomForestRegressor\n",
    "from sklearn.datasets import make_regression\n",
    "from sklearn.model_selection import train_test_split\n",
    "\n",
    "plt.style.use('ggplot')"
   ]
  },
  {
   "cell_type": "code",
   "execution_count": 2,
   "metadata": {},
   "outputs": [
    {
     "name": "stderr",
     "output_type": "stream",
     "text": [
      "/home/alma/.local/lib/python3.6/site-packages/IPython/core/interactiveshell.py:3051: DtypeWarning: Columns (2,3) have mixed types.Specify dtype option on import or set low_memory=False.\n",
      "  interactivity=interactivity, compiler=compiler, result=result)\n"
     ]
    }
   ],
   "source": [
    "df = pd.read_csv('/home/alma/Documentos/xPrize/data_alma/OxCGRT_latest.csv')"
   ]
  },
  {
   "cell_type": "code",
   "execution_count": 3,
   "metadata": {},
   "outputs": [],
   "source": [
    "#Change blank space by _ in columns\n",
    "df.rename(columns=lambda x: x.replace(' ','_').replace('/','_'), inplace=True)"
   ]
  },
  {
   "cell_type": "code",
   "execution_count": 4,
   "metadata": {},
   "outputs": [],
   "source": [
    "#Assignate the correct type\n",
    "df.Date = pd.to_datetime(df['Date'], format='%Y%m%d')\n",
    "df = df.astype({'C1_School_closing':'category', 'C2_Workplace_closing':'category', \n",
    "           'C3_Cancel_public_events':'category','C4_Restrictions_on_gatherings':'category',\n",
    "           'C5_Close_public_transport':'category', 'C6_Stay_at_home_requirements':'category', \n",
    "           'C7_Restrictions_on_internal_movement':'category', 'C8_International_travel_controls':'category', \n",
    "           'E1_Income_support':'category', 'E2_Debt_contract_relief':'category', \n",
    "           'H1_Public_information_campaigns':'category', 'H2_Testing_policy':'category', \n",
    "           'H3_Contact_tracing':'category',  'CountryCode':'category',\n",
    "           'H6_Facial_Coverings':'category', 'H7_Vaccination_policy':'category', 'M1_Wildcard':'category'})"
   ]
  },
  {
   "cell_type": "code",
   "execution_count": 5,
   "metadata": {},
   "outputs": [
    {
     "data": {
      "text/plain": [
       "(92834, 49)"
      ]
     },
     "execution_count": 5,
     "metadata": {},
     "output_type": "execute_result"
    }
   ],
   "source": [
    "df.shape"
   ]
  },
  {
   "cell_type": "code",
   "execution_count": 6,
   "metadata": {},
   "outputs": [
    {
     "data": {
      "text/plain": [
       "array(['Brazil', 'United Kingdom', 'United States'], dtype=object)"
      ]
     },
     "execution_count": 6,
     "metadata": {},
     "output_type": "execute_result"
    }
   ],
   "source": [
    "df[df.RegionName.isna() == False].CountryName.unique()"
   ]
  },
  {
   "cell_type": "code",
   "execution_count": 21,
   "metadata": {},
   "outputs": [
    {
     "name": "stdout",
     "output_type": "stream",
     "text": [
      "CountryName 0\n",
      "CountryCode 0\n",
      "RegionName 62820\n",
      "RegionCode 62820\n",
      "Date 0\n",
      "C1_School_closing 0\n",
      "C1_Flag 25428\n",
      "C2_Workplace_closing 0\n",
      "C2_Flag 31597\n",
      "C3_Cancel_public_events 0\n",
      "C3_Flag 27689\n",
      "C4_Restrictions_on_gatherings 0\n",
      "C4_Flag 31427\n",
      "C5_Close_public_transport 0\n",
      "C5_Flag 55026\n",
      "C6_Stay_at_home_requirements 0\n",
      "C6_Flag 38741\n",
      "C7_Restrictions_on_internal_movement 0\n",
      "C7_Flag 40379\n",
      "C8_International_travel_controls 0\n",
      "E1_Income_support 0\n",
      "E1_Flag 47318\n",
      "E2_Debt_contract_relief 0\n",
      "E3_Fiscal_measures 0\n",
      "E4_International_support 0\n",
      "H1_Public_information_campaigns 0\n",
      "H1_Flag 15556\n",
      "H2_Testing_policy 0\n",
      "H3_Contact_tracing 0\n",
      "H4_Emergency_investment_in_healthcare 0\n",
      "H5_Investment_in_vaccines 0\n",
      "H6_Facial_Coverings 0\n",
      "H6_Flag 36599\n",
      "H7_Vaccination_policy 0\n",
      "H7_Flag 91731\n",
      "ConfirmedCases 0\n",
      "ConfirmedDeaths 0\n",
      "CountryRegion 0\n",
      "Month 0\n",
      "Year 0\n",
      "Day 0\n",
      "Week 0\n"
     ]
    }
   ],
   "source": [
    "#Number of nan\n",
    "for col in df.columns:\n",
    "    print(col, df[col].isnull().sum())"
   ]
  },
  {
   "cell_type": "code",
   "execution_count": 8,
   "metadata": {},
   "outputs": [],
   "source": [
    "#Jurisdiction, M1 and all the indexes can be dropped\n",
    "df.drop(['Jurisdiction','M1_Wildcard', 'StringencyIndex', 'StringencyIndexForDisplay', 'StringencyLegacyIndex', \n",
    "        'StringencyLegacyIndexForDisplay', 'GovernmentResponseIndex', 'GovernmentResponseIndexForDisplay',\n",
    "        'ContainmentHealthIndex', 'ContainmentHealthIndexForDisplay', 'EconomicSupportIndex', \n",
    "        'EconomicSupportIndexForDisplay'], axis=1, inplace=True)"
   ]
  },
  {
   "cell_type": "code",
   "execution_count": 9,
   "metadata": {},
   "outputs": [],
   "source": [
    "#Create feature for CountryName and Region\n",
    "df['CountryRegion'] = df.RegionName\n",
    "df.CountryRegion = df.CountryRegion.fillna(df.CountryName)"
   ]
  },
  {
   "cell_type": "code",
   "execution_count": 10,
   "metadata": {},
   "outputs": [],
   "source": [
    "#Delete USA, UK and BR only country data\n",
    "indexes = df[((df.CountryRegion=='United States') | (df.CountryRegion=='United Kingdom')) | (df.CountryRegion=='Brazil')].index\n",
    "df.drop(labels = indexes, axis=0, inplace=True)"
   ]
  },
  {
   "cell_type": "code",
   "execution_count": 11,
   "metadata": {},
   "outputs": [
    {
     "data": {
      "text/plain": [
       "array(['2020-11-25T00:00:00.000000000', '2020-11-26T00:00:00.000000000',\n",
       "       '2020-11-27T00:00:00.000000000', '2020-11-28T00:00:00.000000000',\n",
       "       '2020-11-29T00:00:00.000000000', '2020-11-30T00:00:00.000000000',\n",
       "       '2020-12-01T00:00:00.000000000', '2020-12-02T00:00:00.000000000',\n",
       "       '2020-12-03T00:00:00.000000000', '2020-12-04T00:00:00.000000000',\n",
       "       '2020-12-05T00:00:00.000000000', '2020-12-06T00:00:00.000000000',\n",
       "       '2020-12-07T00:00:00.000000000', '2020-12-08T00:00:00.000000000',\n",
       "       '2020-12-09T00:00:00.000000000', '2020-12-10T00:00:00.000000000',\n",
       "       '2020-12-11T00:00:00.000000000', '2020-12-12T00:00:00.000000000',\n",
       "       '2020-12-13T00:00:00.000000000', '2020-12-14T00:00:00.000000000'],\n",
       "      dtype='datetime64[ns]')"
      ]
     },
     "execution_count": 11,
     "metadata": {},
     "output_type": "execute_result"
    }
   ],
   "source": [
    "#Check number of days that H7 is not 0 or nan\n",
    "df[(df.H7_Vaccination_policy != 0) & (df.H7_Vaccination_policy.isna()==False)].Date.unique()"
   ]
  },
  {
   "cell_type": "code",
   "execution_count": 12,
   "metadata": {},
   "outputs": [],
   "source": [
    "#Create new variables for day, month and year\n",
    "df['Month'] = df.Date.apply(lambda x: x.month)\n",
    "df['Year'] = df.Date.apply(lambda x: x.year)\n",
    "df['Day'] = df.Date.apply(lambda x: x.day)"
   ]
  },
  {
   "cell_type": "code",
   "execution_count": 13,
   "metadata": {},
   "outputs": [],
   "source": [
    "#Initialized values to 0 in categorical variables to then fill na with the previous value\n",
    "df.loc[(df['Date']=='2020-01-01'), 'C1_School_closing'] = 0\n",
    "df.loc[(df['Date']=='2020-01-01'), 'C2_Workplace_closing'] = 0\n",
    "df.loc[(df['Date']=='2020-01-01'), 'C3_Cancel_public_events'] = 0\n",
    "df.loc[(df['Date']=='2020-01-01'), 'C4_Restrictions_on_gatherings'] = 0\n",
    "df.loc[(df['Date']=='2020-01-01'), 'C5_Close_public_transport'] = 0\n",
    "df.loc[(df['Date']=='2020-01-01'), 'C6_Stay_at_home_requirements'] = 0\n",
    "df.loc[(df['Date']=='2020-01-01'), 'C7_Restrictions_on_internal_movement'] = 0\n",
    "df.loc[(df['Date']=='2020-01-01'), 'C8_International_travel_controls'] = 0\n",
    "df.loc[(df['Date']=='2020-01-01'), 'E1_Income_support'] = 0\n",
    "df.loc[(df['Date']=='2020-01-01'), 'E2_Debt_contract_relief'] = 0\n",
    "df.loc[(df['Date']=='2020-01-01'), 'H1_Public_information_campaigns'] = 0\n",
    "df.loc[(df['Date']=='2020-01-01'), 'H2_Testing_policy'] = 0\n",
    "df.loc[(df['Date']=='2020-01-01'), 'H3_Contact_tracing'] = 0\n",
    "df.loc[(df['Date']=='2020-01-01'), 'H6_Facial_Coverings'] = 0\n",
    "df.loc[(df['Date']=='2020-01-01'), 'H7_Vaccination_policy'] = 0"
   ]
  },
  {
   "cell_type": "code",
   "execution_count": 14,
   "metadata": {
    "scrolled": true
   },
   "outputs": [],
   "source": [
    "#Fill NaN values by 0\n",
    "df.C1_School_closing.fillna(method='ffill', inplace=True)\n",
    "df.C2_Workplace_closing.fillna(method='ffill', inplace=True)\n",
    "df.C3_Cancel_public_events.fillna(method='ffill', inplace=True)\n",
    "df.C4_Restrictions_on_gatherings.fillna(method='ffill', inplace=True)\n",
    "df.C5_Close_public_transport.fillna(method='ffill', inplace=True)\n",
    "df.C6_Stay_at_home_requirements.fillna(method='ffill', inplace=True)\n",
    "df.C7_Restrictions_on_internal_movement.fillna(method='ffill', inplace=True)\n",
    "df.C8_International_travel_controls.fillna(method='ffill', inplace=True)\n",
    "df.E1_Income_support.fillna(method='ffill', inplace=True)\n",
    "df.E2_Debt_contract_relief.fillna(method='ffill', inplace=True)\n",
    "df.E3_Fiscal_measures.fillna(0, inplace=True)\n",
    "df.E4_International_support.fillna(0, inplace=True)\n",
    "df.H1_Public_information_campaigns.fillna(method='ffill', inplace=True)\n",
    "df.H2_Testing_policy.fillna(method='ffill', inplace=True)\n",
    "df.H3_Contact_tracing.fillna(method='ffill', inplace=True)\n",
    "df.H4_Emergency_investment_in_healthcare.fillna(0, inplace=True)\n",
    "df.H5_Investment_in_vaccines.fillna(0, inplace=True)\n",
    "df.H6_Facial_Coverings.fillna(method='ffill', inplace=True)\n",
    "df.H7_Vaccination_policy.fillna(method='ffill', inplace=True)"
   ]
  },
  {
   "cell_type": "code",
   "execution_count": 15,
   "metadata": {},
   "outputs": [],
   "source": [
    "#Confirmed cases fill na with previous values\n",
    "df.loc[(df['Date']=='2020-01-01'), 'ConfirmedCases'] = 0\n",
    "df.ConfirmedCases.fillna(method='ffill', inplace=True)"
   ]
  },
  {
   "cell_type": "code",
   "execution_count": 16,
   "metadata": {},
   "outputs": [],
   "source": [
    "#Confirmed deaths fill na with previous values\n",
    "df.loc[(df['Date']=='2020-01-01'), 'ConfirmedDeaths'] = 0\n",
    "df.ConfirmedDeaths.fillna(method='ffill', inplace=True)"
   ]
  },
  {
   "cell_type": "code",
   "execution_count": 17,
   "metadata": {},
   "outputs": [],
   "source": [
    "#Computing the mean of the cases for each month in each country\n",
    "mean_month = pd.DataFrame(df.groupby(['Month', 'CountryRegion'])['ConfirmedCases'].mean())"
   ]
  },
  {
   "cell_type": "code",
   "execution_count": 18,
   "metadata": {},
   "outputs": [],
   "source": [
    "#Create column of the number fo the week\n",
    "df['Week'] = df['Date'].dt.strftime('%U')"
   ]
  },
  {
   "cell_type": "code",
   "execution_count": 19,
   "metadata": {},
   "outputs": [],
   "source": [
    "#Trying to calculate the rolling mean of a week in each country\n",
    "roll_mean_week = pd.DataFrame(df.groupby(['Week', 'CountryRegion'])['ConfirmedCases'].rolling(2).mean())"
   ]
  },
  {
   "cell_type": "code",
   "execution_count": 76,
   "metadata": {},
   "outputs": [],
   "source": [
    "#Create Cateorical variable to countries. from 1 to 182.\n",
    "df['CountryCodeCat'] = df.CountryCode.cat.codes"
   ]
  },
  {
   "cell_type": "code",
   "execution_count": 85,
   "metadata": {},
   "outputs": [],
   "source": [
    "df_random = df.drop(['ConfirmedCases','ConfirmedDeaths', 'C1_Flag', 'C2_Flag', 'C3_Flag', 'C4_Flag', 'C5_Flag', 'C6_Flag','C7_Flag',\n",
    "                     'E1_Flag', 'H1_Flag', 'H6_Flag', 'H7_Flag', 'CountryName', 'CountryCode', 'RegionName', \n",
    "                     'RegionCode','CountryRegion', 'Date', 'Month', 'Day'], axis = 1)"
   ]
  },
  {
   "cell_type": "code",
   "execution_count": 86,
   "metadata": {},
   "outputs": [
    {
     "data": {
      "text/plain": [
       "array([0.        , 0.        , 0.        , 0.        , 0.        ,\n",
       "       0.        , 0.        , 0.        , 0.        , 0.098388  ,\n",
       "       0.00300538, 0.        , 0.        , 0.37176385, 0.        ,\n",
       "       0.        , 0.        , 0.51173012, 0.01511265, 0.        ,\n",
       "       0.        ])"
      ]
     },
     "execution_count": 86,
     "metadata": {},
     "output_type": "execute_result"
    }
   ],
   "source": [
    "x_train, x_test, y_train, y_test = train_test_split(df_random, df.ConfirmedCases, test_size=0.2, random_state=301)\n",
    "regr = RandomForestRegressor(max_depth=2, random_state=0)\n",
    "regr.fit(x_train, y_train)\n",
    "\n",
    "regr.feature_importances_"
   ]
  },
  {
   "cell_type": "code",
   "execution_count": 87,
   "metadata": {},
   "outputs": [
    {
     "data": {
      "text/plain": [
       "Index(['C1_School_closing', 'C2_Workplace_closing', 'C3_Cancel_public_events',\n",
       "       'C4_Restrictions_on_gatherings', 'C5_Close_public_transport',\n",
       "       'C6_Stay_at_home_requirements', 'C7_Restrictions_on_internal_movement',\n",
       "       'C8_International_travel_controls', 'E1_Income_support',\n",
       "       'E2_Debt_contract_relief', 'E3_Fiscal_measures',\n",
       "       'E4_International_support', 'H1_Public_information_campaigns',\n",
       "       'H2_Testing_policy', 'H3_Contact_tracing',\n",
       "       'H4_Emergency_investment_in_healthcare', 'H5_Investment_in_vaccines',\n",
       "       'H6_Facial_Coverings', 'H7_Vaccination_policy', 'Year',\n",
       "       'CountryCodeCat'],\n",
       "      dtype='object')"
      ]
     },
     "execution_count": 87,
     "metadata": {},
     "output_type": "execute_result"
    }
   ],
   "source": [
    "x_train.columns"
   ]
  },
  {
   "cell_type": "code",
   "execution_count": null,
   "metadata": {},
   "outputs": [],
   "source": []
  },
  {
   "cell_type": "code",
   "execution_count": null,
   "metadata": {},
   "outputs": [],
   "source": []
  },
  {
   "cell_type": "code",
   "execution_count": null,
   "metadata": {},
   "outputs": [],
   "source": []
  },
  {
   "cell_type": "markdown",
   "metadata": {},
   "source": [
    "## Not useful code cells and plots"
   ]
  },
  {
   "cell_type": "code",
   "execution_count": 130,
   "metadata": {},
   "outputs": [
    {
     "data": {
      "text/plain": [
       "array(['2020-03-02T00:00:00.000000000', '2020-03-03T00:00:00.000000000',\n",
       "       '2020-03-04T00:00:00.000000000', '2020-03-05T00:00:00.000000000',\n",
       "       '2020-03-06T00:00:00.000000000', '2020-03-07T00:00:00.000000000',\n",
       "       '2020-03-08T00:00:00.000000000', '2020-03-09T00:00:00.000000000',\n",
       "       '2020-03-19T00:00:00.000000000', '2020-03-20T00:00:00.000000000',\n",
       "       '2020-04-13T00:00:00.000000000', '2020-05-11T00:00:00.000000000',\n",
       "       '2020-05-12T00:00:00.000000000', '2020-05-13T00:00:00.000000000',\n",
       "       '2020-05-14T00:00:00.000000000', '2020-05-24T00:00:00.000000000',\n",
       "       '2020-05-26T00:00:00.000000000', '2020-05-31T00:00:00.000000000',\n",
       "       '2020-06-02T00:00:00.000000000', '2020-06-06T00:00:00.000000000',\n",
       "       '2020-06-07T00:00:00.000000000', '2020-06-08T00:00:00.000000000',\n",
       "       '2020-06-24T00:00:00.000000000', '2020-07-23T00:00:00.000000000',\n",
       "       '2020-07-29T00:00:00.000000000', '2020-08-02T00:00:00.000000000',\n",
       "       '2020-09-25T00:00:00.000000000', '2020-09-29T00:00:00.000000000',\n",
       "       '2020-10-01T00:00:00.000000000', '2020-10-21T00:00:00.000000000',\n",
       "       '2020-10-29T00:00:00.000000000', '2020-11-05T00:00:00.000000000',\n",
       "       '2020-11-06T00:00:00.000000000', '2020-11-07T00:00:00.000000000',\n",
       "       '2020-11-08T00:00:00.000000000', '2020-11-09T00:00:00.000000000',\n",
       "       '2020-11-10T00:00:00.000000000', '2020-11-11T00:00:00.000000000',\n",
       "       '2020-11-12T00:00:00.000000000', '2020-11-15T00:00:00.000000000',\n",
       "       '2020-11-21T00:00:00.000000000', '2020-11-23T00:00:00.000000000',\n",
       "       '2020-11-27T00:00:00.000000000', '2020-03-10T00:00:00.000000000',\n",
       "       '2020-03-11T00:00:00.000000000', '2020-03-12T00:00:00.000000000',\n",
       "       '2020-03-13T00:00:00.000000000', '2020-03-14T00:00:00.000000000'],\n",
       "      dtype='datetime64[ns]')"
      ]
     },
     "execution_count": 130,
     "metadata": {},
     "output_type": "execute_result"
    }
   ],
   "source": [
    "df[((df.ConfirmedCases.isna()) & (df.CountryName=='Brazil')) & ((df.Date > '2020-03-01') & (df.Date < '2020-11-30'))].Date.unique()"
   ]
  },
  {
   "cell_type": "code",
   "execution_count": null,
   "metadata": {},
   "outputs": [],
   "source": []
  },
  {
   "cell_type": "code",
   "execution_count": 11,
   "metadata": {},
   "outputs": [],
   "source": [
    "df_na = df[df['ConfirmedCases'].isna()]\n",
    "confirmed_cases_month_na = df_na.groupby('Month')['ConfirmedCases'].size()\n",
    "confirmed_cases_na = df_na.groupby('Date')['ConfirmedCases'].size()"
   ]
  },
  {
   "cell_type": "code",
   "execution_count": 12,
   "metadata": {},
   "outputs": [
    {
     "data": {
      "text/plain": [
       "<AxesSubplot:xlabel='Month'>"
      ]
     },
     "execution_count": 12,
     "metadata": {},
     "output_type": "execute_result"
    },
    {
     "data": {
      "image/png": "[encoded data removed]",
      "text/plain": [
       "<Figure size 1440x720 with 1 Axes>"
      ]
     },
     "metadata": {},
     "output_type": "display_data"
    }
   ],
   "source": [
    "plt.figure(figsize=(20,10))\n",
    "plt.xticks(rotation=90)\n",
    "sns.stripplot(x=confirmed_cases_month_na[confirmed_cases_month_na.values > 0].index, y=confirmed_cases_month_na[confirmed_cases_month_na.values > 0].values)"
   ]
  },
  {
   "cell_type": "code",
   "execution_count": 13,
   "metadata": {},
   "outputs": [
    {
     "data": {
      "text/plain": [
       "<AxesSubplot:xlabel='Date'>"
      ]
     },
     "execution_count": 13,
     "metadata": {},
     "output_type": "execute_result"
    },
    {
     "data": {
      "image/png": "[encoded data removed]",
      "text/plain": [
       "<Figure size 1440x720 with 1 Axes>"
      ]
     },
     "metadata": {},
     "output_type": "display_data"
    }
   ],
   "source": [
    "plt.figure(figsize=(20,10))\n",
    "plt.xticks(rotation=90)\n",
    "sns.stripplot(x=confirmed_cases_na[confirmed_cases_na.values > 0].index, y=confirmed_cases_na[confirmed_cases_na.values > 0].values)"
   ]
  }
 ],
 "metadata": {
  "kernelspec": {
   "display_name": "Python 3",
   "language": "python",
   "name": "python3"
  },
  "language_info": {
   "codemirror_mode": {
    "name": "ipython",
    "version": 3
   },
   "file_extension": ".py",
   "mimetype": "text/x-python",
   "name": "python",
   "nbconvert_exporter": "python",
   "pygments_lexer": "ipython3",
   "version": "3.6.9"
  }
 },
 "nbformat": 4,
 "nbformat_minor": 2
}
